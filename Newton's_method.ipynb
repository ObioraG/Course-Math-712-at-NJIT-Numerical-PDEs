{
  "nbformat": 4,
  "nbformat_minor": 0,
  "metadata": {
    "colab": {
      "name": "Newton's method",
      "provenance": [],
      "authorship_tag": "ABX9TyN5qqILrtjDFZtPEDpQsPOm",
      "include_colab_link": true
    },
    "kernelspec": {
      "name": "python3",
      "display_name": "Python 3"
    }
  },
  "cells": [
    {
      "cell_type": "markdown",
      "metadata": {
        "id": "view-in-github",
        "colab_type": "text"
      },
      "source": [
        "<a href=\"https://colab.research.google.com/github/ObioraG/Course-Math-712-at-NJIT-Numerical-PDEs/blob/master/Newton's_method.ipynb\" target=\"_parent\"><img src=\"https://colab.research.google.com/assets/colab-badge.svg\" alt=\"Open In Colab\"/></a>"
      ]
    },
    {
      "cell_type": "code",
      "metadata": {
        "id": "v_8K09EOYlc8"
      },
      "source": [
        "import numpy as np\r\n",
        "import math\r\n",
        "import matplotlib.pyplot as plt\r\n"
      ],
      "execution_count": 28,
      "outputs": []
    },
    {
      "cell_type": "code",
      "metadata": {
        "id": "9AD4M4w2ZsLK"
      },
      "source": [
        "def func(x,y): \r\n",
        "    return x**4 + 3*y**2+math.exp(-x)+math.exp(-2*y)+math.exp(-2*x-3*y)\r\n",
        "\r\n",
        "def computeGradf(x,y):\r\n",
        "    g1 = 4*x**3-2*math.exp(-2*x-3*y)-math.exp(-x)\r\n",
        "    g2 = 6*y-2*math.exp(-2*y)-3*math.exp(-2*x-3*y)\r\n",
        "    return np.array([g1,g2])\r\n",
        "\r\n",
        "def computeHessian(x,y):\r\n",
        "    h11 = 12*x**2+math.exp(-x)+4*math.exp(-2*x-3*y)\r\n",
        "    h12 = 6*math.exp(-2*x-3*y)\r\n",
        "    h21 = 6*math.exp(-2*x-3*y)\r\n",
        "    h22 = 6+4*math.exp(-2*y)+9*math.exp(-2*x-3*y)\r\n",
        "    return np.array([[h11,h12],[h21,h22]])"
      ],
      "execution_count": 29,
      "outputs": []
    },
    {
      "cell_type": "code",
      "metadata": {
        "id": "2FD8oGFSbch2"
      },
      "source": [
        "def Newton_Raphson_Optimize(Grad, Hess, x,y, epsilon=0.000001, nMax = 200): #Newton's method optimization version w/Hessian\r\n",
        "    #Initialization\r\n",
        "    i = 0\r\n",
        "    iter_x, iter_y, iter_count = np.empty(0),np.empty(0), np.empty(0)\r\n",
        "    error = 10\r\n",
        "    X = np.array([x,y])\r\n",
        "    \r\n",
        "    #Looping as long as error is greater than epsilon, also Hessian matrix must be singular\r\n",
        "    while np.linalg.norm(error) > epsilon and i < nMax:\r\n",
        "        i +=1\r\n",
        "        iter_x = np.append(iter_x,x)\r\n",
        "        iter_y = np.append(iter_y,y)\r\n",
        "        iter_count = np.append(iter_count ,i)   \r\n",
        "        print(X) \r\n",
        "        \r\n",
        "        X_prev = X\r\n",
        "        X = X - np.linalg.inv(Hess(x,y)) @ Grad(x,y)\r\n",
        "        error = X - X_prev\r\n",
        "        x,y = X[0], X[1]\r\n",
        "          \r\n",
        "    return X, iter_x,iter_y, iter_count"
      ],
      "execution_count": 30,
      "outputs": []
    },
    {
      "cell_type": "code",
      "metadata": {
        "colab": {
          "base_uri": "https://localhost:8080/"
        },
        "id": "tE0nfdOlbyCR",
        "outputId": "dd9fc3b2-ed7c-4cda-d3c0-512852ec4d02"
      },
      "source": [
        "root,iter_x,iter_y, iter_count = Newton_Raphson_Optimize(computeGradf,computeHessian,0,0)"
      ],
      "execution_count": 31,
      "outputs": [
        {
          "output_type": "stream",
          "text": [
            "[0 0]\n",
            "[0.45762712 0.11864407]\n",
            "[0.59784743 0.24460531]\n",
            "[0.59192402 0.26503762]\n",
            "[0.59191935 0.26519784]\n"
          ],
          "name": "stdout"
        }
      ]
    },
    {
      "cell_type": "code",
      "metadata": {
        "colab": {
          "base_uri": "https://localhost:8080/"
        },
        "id": "JprfoggPdUcI",
        "outputId": "549c3927-eabd-4e57-f576-0da88dace940"
      },
      "source": [
        "root,iter_x,iter_y, iter_count = Newton_Raphson_Optimize(computeGradf,computeHessian,-2,2)"
      ],
      "execution_count": 32,
      "outputs": [
        {
          "output_type": "stream",
          "text": [
            "[-2  2]\n",
            "[-1.26671084  0.33324162]\n",
            "[-0.73490758  0.29593258]\n",
            "[-0.26357178  0.28108001]\n",
            "[0.3609025  0.20756856]\n",
            "[0.65581084 0.24359769]\n",
            "[0.59674812 0.26460806]\n",
            "[0.59194816 0.26519396]\n",
            "[0.59191936 0.26519786]\n"
          ],
          "name": "stdout"
        }
      ]
    },
    {
      "cell_type": "code",
      "metadata": {
        "colab": {
          "base_uri": "https://localhost:8080/"
        },
        "id": "9QP50KsTeSDu",
        "outputId": "bf429ac1-8e64-4639-cd47-d091cda87dac"
      },
      "source": [
        "root,iter_x,iter_y, iter_count = Newton_Raphson_Optimize(computeGradf,computeHessian, 1, 5)"
      ],
      "execution_count": 33,
      "outputs": [
        {
          "output_type": "stream",
          "text": [
            "[1 5]\n",
            "[7.06326440e-01 1.66804703e-04]\n",
            "[0.60243496 0.23645809]\n",
            "[0.59199622 0.26489155]\n",
            "[0.59191935 0.26519782]\n"
          ],
          "name": "stdout"
        }
      ]
    },
    {
      "cell_type": "code",
      "metadata": {
        "colab": {
          "base_uri": "https://localhost:8080/"
        },
        "id": "QSrMhCUReluj",
        "outputId": "efc10112-e9c3-46e7-d746-1dcf2d1576a3"
      },
      "source": [
        "root,iter_x,iter_y, iter_count = Newton_Raphson_Optimize(computeGradf,computeHessian,-100, 30)"
      ],
      "execution_count": 34,
      "outputs": [
        {
          "output_type": "stream",
          "text": [
            "[-100   30]\n",
            "[-99.          29.66666667]\n",
            "[-98.          29.33333333]\n",
            "[-97.  29.]\n",
            "[-96.          28.66666667]\n",
            "[-95.          28.33333333]\n",
            "[-94.  28.]\n",
            "[-93.          27.66666667]\n",
            "[-92.          27.33333333]\n",
            "[-91.  27.]\n",
            "[-90.          26.66666667]\n",
            "[-89.          26.33333333]\n",
            "[-88.  26.]\n",
            "[-87.          25.66666667]\n",
            "[-86.          25.33333333]\n",
            "[-85.  25.]\n",
            "[-84.          24.66666667]\n",
            "[-83.          24.33333333]\n",
            "[-82.  24.]\n",
            "[-81.          23.66666667]\n",
            "[-80.          23.33333333]\n",
            "[-79.  23.]\n",
            "[-78.          22.66666667]\n",
            "[-77.          22.33333333]\n",
            "[-76.  22.]\n",
            "[-75.          21.66666667]\n",
            "[-74.          21.33333333]\n",
            "[-73.  21.]\n",
            "[-72.          20.66666667]\n",
            "[-71.          20.33333333]\n",
            "[-70.  20.]\n",
            "[-69.          19.66666667]\n",
            "[-68.          19.33333333]\n",
            "[-67.  19.]\n",
            "[-66.          18.66666667]\n",
            "[-65.          18.33333333]\n",
            "[-64.  18.]\n",
            "[-63.          17.66666667]\n",
            "[-62.          17.33333333]\n",
            "[-61.  17.]\n",
            "[-60.          16.66666667]\n",
            "[-59.          16.33333333]\n",
            "[-58.  16.]\n",
            "[-57.          15.66666667]\n",
            "[-56.          15.33333333]\n",
            "[-55.  15.]\n",
            "[-54.          14.66666667]\n",
            "[-53.          14.33333333]\n",
            "[-52.  14.]\n",
            "[-51.          13.66666667]\n",
            "[-50.          13.33333333]\n",
            "[-49.  13.]\n",
            "[-48.          12.66666667]\n",
            "[-47.          12.33333333]\n",
            "[-46.  12.]\n",
            "[-45.          11.66666667]\n",
            "[-44.          11.33333333]\n",
            "[-43.  11.]\n",
            "[-42.          10.66666667]\n",
            "[-41.          10.33333333]\n",
            "[-40.  10.]\n",
            "[-39.           9.66666667]\n",
            "[-38.           9.33333333]\n",
            "[-37.   9.]\n",
            "[-36.           8.66666667]\n",
            "[-35.           8.33333333]\n",
            "[-34.   8.]\n",
            "[-33.           7.66666667]\n",
            "[-32.           7.33333333]\n",
            "[-31.   7.]\n",
            "[-29.99999999   6.66666666]\n",
            "[-28.99999998   6.33333332]\n",
            "[-27.99999996   5.99999998]\n",
            "[-26.99999991   5.66666661]\n",
            "[-25.99999978   5.33333318]\n",
            "[-24.99999946   4.99999964]\n",
            "[-23.99999869   4.6666658 ]\n",
            "[-22.99999687   4.33333125]\n",
            "[-21.99999252   3.99999502]\n",
            "[-20.99998226   3.66665484]\n",
            "[-19.99995817   3.33330545]\n",
            "[-18.99990208   2.99993472]\n",
            "[-17.99977257   2.66651505]\n",
            "[-16.99947632   2.33298421]\n",
            "[-15.99880579   1.99920386]\n",
            "[-14.99730607   1.66487071]\n",
            "[-13.99399648   1.32933098]\n",
            "[-12.98680327   0.99120218]\n",
            "[-11.97143827   0.64762551]\n",
            "[-10.93926947   0.29284632]\n",
            "[-9.87352854 -0.08431431]\n",
            "[-8.74352637 -0.50431575]\n",
            "[-7.50072802 -0.99951464]\n",
            "[-6.10432252 -1.59711823]\n",
            "[-4.67840402 -2.21439667]\n",
            "[-3.77330935 -2.48445637]\n",
            "[-3.38018288 -2.41319847]\n",
            "[-3.07298874 -2.28464284]\n",
            "[-2.79149983 -2.13893121]\n",
            "[-2.52524439 -1.98302564]\n",
            "[-2.27256449 -1.81799404]\n",
            "[-2.03360903 -1.64366502]\n",
            "[-1.80867744 -1.45970088]\n",
            "[-1.5976197  -1.26593952]\n",
            "[-1.39936262 -1.06260438]\n",
            "[-1.21129743 -0.85053086]\n",
            "[-1.02836908 -0.6315075 ]\n",
            "[-0.84156545 -0.40907666]\n",
            "[-0.63494171 -0.19108677]\n",
            "[-0.37853099  0.00261445]\n",
            "[-0.00597473  0.12638248]\n",
            "[0.60243118 0.14883701]\n",
            "[0.58997393 0.25932044]\n",
            "[0.59191487 0.26517967]\n",
            "[0.59191936 0.26519786]\n"
          ],
          "name": "stdout"
        }
      ]
    }
  ]
}